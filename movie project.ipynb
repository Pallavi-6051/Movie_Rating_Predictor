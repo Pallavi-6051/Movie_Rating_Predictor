{
 "cells": [
  {
   "cell_type": "code",
   "execution_count": 1,
   "metadata": {},
   "outputs": [],
   "source": [
    "from numpy import*\n",
    "from pandas import*\n",
    "from tkinter import*\n"
   ]
  },
  {
   "cell_type": "code",
   "execution_count": 2,
   "metadata": {},
   "outputs": [],
   "source": [
    "director_file=read_csv(\"BollywoodDirectorRanking.csv\")\n",
    "actor_file=read_csv(\"BollywoodActorRanking.csv\")\n",
    "movie_file=read_csv(\"BollywoodMovieDetail2.csv\")"
   ]
  },
  {
   "cell_type": "code",
   "execution_count": 3,
   "metadata": {
    "scrolled": false
   },
   "outputs": [
    {
     "data": {
      "text/html": [
       "<div>\n",
       "<style scoped>\n",
       "    .dataframe tbody tr th:only-of-type {\n",
       "        vertical-align: middle;\n",
       "    }\n",
       "\n",
       "    .dataframe tbody tr th {\n",
       "        vertical-align: top;\n",
       "    }\n",
       "\n",
       "    .dataframe thead th {\n",
       "        text-align: right;\n",
       "    }\n",
       "</style>\n",
       "<table border=\"1\" class=\"dataframe\">\n",
       "  <thead>\n",
       "    <tr style=\"text-align: right;\">\n",
       "      <th></th>\n",
       "      <th>directorname</th>\n",
       "      <th>director_rating</th>\n",
       "    </tr>\n",
       "  </thead>\n",
       "  <tbody>\n",
       "    <tr>\n",
       "      <th>0</th>\n",
       "      <td>Rajkumar Hirani</td>\n",
       "      <td>10.00000</td>\n",
       "    </tr>\n",
       "    <tr>\n",
       "      <th>1</th>\n",
       "      <td>Farah Khan</td>\n",
       "      <td>8.78473</td>\n",
       "    </tr>\n",
       "    <tr>\n",
       "      <th>2</th>\n",
       "      <td>Karan Johar</td>\n",
       "      <td>7.10460</td>\n",
       "    </tr>\n",
       "    <tr>\n",
       "      <th>3</th>\n",
       "      <td>Sajid Khan</td>\n",
       "      <td>6.99780</td>\n",
       "    </tr>\n",
       "    <tr>\n",
       "      <th>4</th>\n",
       "      <td>Rohit Shetty</td>\n",
       "      <td>6.83761</td>\n",
       "    </tr>\n",
       "  </tbody>\n",
       "</table>\n",
       "</div>"
      ],
      "text/plain": [
       "      directorname  director_rating\n",
       "0  Rajkumar Hirani         10.00000\n",
       "1       Farah Khan          8.78473\n",
       "2      Karan Johar          7.10460\n",
       "3       Sajid Khan          6.99780\n",
       "4     Rohit Shetty          6.83761"
      ]
     },
     "execution_count": 3,
     "metadata": {},
     "output_type": "execute_result"
    }
   ],
   "source": [
    "new_director_file=DataFrame({\"directorname\":director_file[\"directorName\"],\"director_rating\":director_file[\"normalizedRating\"]})\n",
    "new_director_file.head()"
   ]
  },
  {
   "cell_type": "code",
   "execution_count": 4,
   "metadata": {},
   "outputs": [
    {
     "data": {
      "text/html": [
       "<div>\n",
       "<style scoped>\n",
       "    .dataframe tbody tr th:only-of-type {\n",
       "        vertical-align: middle;\n",
       "    }\n",
       "\n",
       "    .dataframe tbody tr th {\n",
       "        vertical-align: top;\n",
       "    }\n",
       "\n",
       "    .dataframe thead th {\n",
       "        text-align: right;\n",
       "    }\n",
       "</style>\n",
       "<table border=\"1\" class=\"dataframe\">\n",
       "  <thead>\n",
       "    <tr style=\"text-align: right;\">\n",
       "      <th></th>\n",
       "      <th>actor_name</th>\n",
       "      <th>actor_rating</th>\n",
       "    </tr>\n",
       "  </thead>\n",
       "  <tbody>\n",
       "    <tr>\n",
       "      <th>0</th>\n",
       "      <td>Aamir Khan</td>\n",
       "      <td>10.00000</td>\n",
       "    </tr>\n",
       "    <tr>\n",
       "      <th>1</th>\n",
       "      <td>Shah Rukh Khan</td>\n",
       "      <td>9.22674</td>\n",
       "    </tr>\n",
       "    <tr>\n",
       "      <th>2</th>\n",
       "      <td>Salman Khan</td>\n",
       "      <td>9.20821</td>\n",
       "    </tr>\n",
       "    <tr>\n",
       "      <th>3</th>\n",
       "      <td>Katrina Kaif</td>\n",
       "      <td>8.94852</td>\n",
       "    </tr>\n",
       "    <tr>\n",
       "      <th>4</th>\n",
       "      <td>Deepika Padukone</td>\n",
       "      <td>8.62716</td>\n",
       "    </tr>\n",
       "  </tbody>\n",
       "</table>\n",
       "</div>"
      ],
      "text/plain": [
       "         actor_name  actor_rating\n",
       "0        Aamir Khan      10.00000\n",
       "1    Shah Rukh Khan       9.22674\n",
       "2       Salman Khan       9.20821\n",
       "3      Katrina Kaif       8.94852\n",
       "4  Deepika Padukone       8.62716"
      ]
     },
     "execution_count": 4,
     "metadata": {},
     "output_type": "execute_result"
    }
   ],
   "source": [
    "\n",
    "new_actor_file=DataFrame({\"actor_name\":actor_file[\"actorName\"],\"actor_rating\":actor_file[\"normalizedRating\"]})\n",
    "new_actor_file.head()"
   ]
  },
  {
   "cell_type": "code",
   "execution_count": 5,
   "metadata": {
    "scrolled": true
   },
   "outputs": [
    {
     "data": {
      "text/html": [
       "<div>\n",
       "<style scoped>\n",
       "    .dataframe tbody tr th:only-of-type {\n",
       "        vertical-align: middle;\n",
       "    }\n",
       "\n",
       "    .dataframe tbody tr th {\n",
       "        vertical-align: top;\n",
       "    }\n",
       "\n",
       "    .dataframe thead th {\n",
       "        text-align: right;\n",
       "    }\n",
       "</style>\n",
       "<table border=\"1\" class=\"dataframe\">\n",
       "  <thead>\n",
       "    <tr style=\"text-align: right;\">\n",
       "      <th></th>\n",
       "      <th>movie_name</th>\n",
       "      <th>actors</th>\n",
       "      <th>directors</th>\n",
       "      <th>movie_rating</th>\n",
       "    </tr>\n",
       "  </thead>\n",
       "  <tbody>\n",
       "    <tr>\n",
       "      <th>0</th>\n",
       "      <td>Albela</td>\n",
       "      <td>Govinda | Aishwarya Rai Bachchan | Jackie Shro...</td>\n",
       "      <td>Deepak Sareen</td>\n",
       "      <td>2</td>\n",
       "    </tr>\n",
       "    <tr>\n",
       "      <th>1</th>\n",
       "      <td>Lagaan: Once Upon a Time in India</td>\n",
       "      <td>Aamir Khan | Gracy Singh | Rachel Shelley | Pa...</td>\n",
       "      <td>Ashutosh Gowariker</td>\n",
       "      <td>6</td>\n",
       "    </tr>\n",
       "    <tr>\n",
       "      <th>2</th>\n",
       "      <td>Meri Biwi Ka Jawab Nahin</td>\n",
       "      <td>Akshay Kumar | Sridevi | Gulshan Grover | Laxm...</td>\n",
       "      <td>Pankaj Parashar | S.M. Iqbal</td>\n",
       "      <td>1</td>\n",
       "    </tr>\n",
       "    <tr>\n",
       "      <th>3</th>\n",
       "      <td>Hum Tumhare Hain Sanam</td>\n",
       "      <td>Shah Rukh Khan | Madhuri Dixit | Salman Khan |...</td>\n",
       "      <td>K.S. Adiyaman</td>\n",
       "      <td>4</td>\n",
       "    </tr>\n",
       "    <tr>\n",
       "      <th>4</th>\n",
       "      <td>One 2 Ka 4</td>\n",
       "      <td>Shah Rukh Khan | Juhi Chawla | Jackie Shroff |...</td>\n",
       "      <td>Shashilal K. Nair</td>\n",
       "      <td>1</td>\n",
       "    </tr>\n",
       "  </tbody>\n",
       "</table>\n",
       "</div>"
      ],
      "text/plain": [
       "                          movie_name  \\\n",
       "0                             Albela   \n",
       "1  Lagaan: Once Upon a Time in India   \n",
       "2           Meri Biwi Ka Jawab Nahin   \n",
       "3             Hum Tumhare Hain Sanam   \n",
       "4                         One 2 Ka 4   \n",
       "\n",
       "                                              actors  \\\n",
       "0  Govinda | Aishwarya Rai Bachchan | Jackie Shro...   \n",
       "1  Aamir Khan | Gracy Singh | Rachel Shelley | Pa...   \n",
       "2  Akshay Kumar | Sridevi | Gulshan Grover | Laxm...   \n",
       "3  Shah Rukh Khan | Madhuri Dixit | Salman Khan |...   \n",
       "4  Shah Rukh Khan | Juhi Chawla | Jackie Shroff |...   \n",
       "\n",
       "                      directors  movie_rating  \n",
       "0                 Deepak Sareen             2  \n",
       "1            Ashutosh Gowariker             6  \n",
       "2  Pankaj Parashar | S.M. Iqbal             1  \n",
       "3                 K.S. Adiyaman             4  \n",
       "4             Shashilal K. Nair             1  "
      ]
     },
     "execution_count": 5,
     "metadata": {},
     "output_type": "execute_result"
    }
   ],
   "source": [
    "new_movie_file=DataFrame({\"movie_name\":movie_file[\"title\"],\"actors\":movie_file[\"actors\"],\"directors\":movie_file[\"directors\"],\"movie_rating\":movie_file[\"hitFlop\"]})\n",
    "new_movie_file.head()\n"
   ]
  },
  {
   "cell_type": "code",
   "execution_count": 6,
   "metadata": {
    "scrolled": false
   },
   "outputs": [
    {
     "data": {
      "text/html": [
       "<div>\n",
       "<style scoped>\n",
       "    .dataframe tbody tr th:only-of-type {\n",
       "        vertical-align: middle;\n",
       "    }\n",
       "\n",
       "    .dataframe tbody tr th {\n",
       "        vertical-align: top;\n",
       "    }\n",
       "\n",
       "    .dataframe thead th {\n",
       "        text-align: right;\n",
       "    }\n",
       "</style>\n",
       "<table border=\"1\" class=\"dataframe\">\n",
       "  <thead>\n",
       "    <tr style=\"text-align: right;\">\n",
       "      <th></th>\n",
       "      <th>movie_name</th>\n",
       "      <th>actors</th>\n",
       "      <th>directors</th>\n",
       "      <th>movie_rating</th>\n",
       "      <th>new actors</th>\n",
       "      <th>latest_actor_rating</th>\n",
       "      <th>latest_director_rating</th>\n",
       "    </tr>\n",
       "  </thead>\n",
       "  <tbody>\n",
       "    <tr>\n",
       "      <th>0</th>\n",
       "      <td>Albela</td>\n",
       "      <td>Govinda | Aishwarya Rai Bachchan | Jackie Shro...</td>\n",
       "      <td>[Deepak Sareen]</td>\n",
       "      <td>2</td>\n",
       "      <td>[Govinda, Aishwarya Rai Bachchan, Jackie Shrof...</td>\n",
       "      <td>3.826140</td>\n",
       "      <td>0.000000</td>\n",
       "    </tr>\n",
       "    <tr>\n",
       "      <th>1</th>\n",
       "      <td>Lagaan: Once Upon a Time in India</td>\n",
       "      <td>Aamir Khan | Gracy Singh | Rachel Shelley | Pa...</td>\n",
       "      <td>[Ashutosh Gowariker]</td>\n",
       "      <td>6</td>\n",
       "      <td>[Aamir Khan, Gracy Singh, Rachel Shelley, Paul...</td>\n",
       "      <td>3.292210</td>\n",
       "      <td>3.748080</td>\n",
       "    </tr>\n",
       "    <tr>\n",
       "      <th>2</th>\n",
       "      <td>Meri Biwi Ka Jawab Nahin</td>\n",
       "      <td>Akshay Kumar | Sridevi | Gulshan Grover | Laxm...</td>\n",
       "      <td>[Pankaj Parashar, S.M. Iqbal]</td>\n",
       "      <td>1</td>\n",
       "      <td>[Akshay Kumar, Sridevi, Gulshan Grover, Laxmik...</td>\n",
       "      <td>2.716680</td>\n",
       "      <td>0.606655</td>\n",
       "    </tr>\n",
       "    <tr>\n",
       "      <th>3</th>\n",
       "      <td>Hum Tumhare Hain Sanam</td>\n",
       "      <td>Shah Rukh Khan | Madhuri Dixit | Salman Khan |...</td>\n",
       "      <td>[K.S. Adiyaman]</td>\n",
       "      <td>4</td>\n",
       "      <td>[Shah Rukh Khan, Madhuri Dixit, Salman Khan, A...</td>\n",
       "      <td>5.817083</td>\n",
       "      <td>0.000000</td>\n",
       "    </tr>\n",
       "    <tr>\n",
       "      <th>4</th>\n",
       "      <td>One 2 Ka 4</td>\n",
       "      <td>Shah Rukh Khan | Juhi Chawla | Jackie Shroff |...</td>\n",
       "      <td>[Shashilal K. Nair]</td>\n",
       "      <td>1</td>\n",
       "      <td>[Shah Rukh Khan, Juhi Chawla, Jackie Shroff, N...</td>\n",
       "      <td>3.745475</td>\n",
       "      <td>2.849850</td>\n",
       "    </tr>\n",
       "  </tbody>\n",
       "</table>\n",
       "</div>"
      ],
      "text/plain": [
       "                          movie_name  \\\n",
       "0                             Albela   \n",
       "1  Lagaan: Once Upon a Time in India   \n",
       "2           Meri Biwi Ka Jawab Nahin   \n",
       "3             Hum Tumhare Hain Sanam   \n",
       "4                         One 2 Ka 4   \n",
       "\n",
       "                                              actors  \\\n",
       "0  Govinda | Aishwarya Rai Bachchan | Jackie Shro...   \n",
       "1  Aamir Khan | Gracy Singh | Rachel Shelley | Pa...   \n",
       "2  Akshay Kumar | Sridevi | Gulshan Grover | Laxm...   \n",
       "3  Shah Rukh Khan | Madhuri Dixit | Salman Khan |...   \n",
       "4  Shah Rukh Khan | Juhi Chawla | Jackie Shroff |...   \n",
       "\n",
       "                       directors  movie_rating  \\\n",
       "0                [Deepak Sareen]             2   \n",
       "1           [Ashutosh Gowariker]             6   \n",
       "2  [Pankaj Parashar, S.M. Iqbal]             1   \n",
       "3                [K.S. Adiyaman]             4   \n",
       "4            [Shashilal K. Nair]             1   \n",
       "\n",
       "                                          new actors  latest_actor_rating  \\\n",
       "0  [Govinda, Aishwarya Rai Bachchan, Jackie Shrof...             3.826140   \n",
       "1  [Aamir Khan, Gracy Singh, Rachel Shelley, Paul...             3.292210   \n",
       "2  [Akshay Kumar, Sridevi, Gulshan Grover, Laxmik...             2.716680   \n",
       "3  [Shah Rukh Khan, Madhuri Dixit, Salman Khan, A...             5.817083   \n",
       "4  [Shah Rukh Khan, Juhi Chawla, Jackie Shroff, N...             3.745475   \n",
       "\n",
       "   latest_director_rating  \n",
       "0                0.000000  \n",
       "1                3.748080  \n",
       "2                0.606655  \n",
       "3                0.000000  \n",
       "4                2.849850  "
      ]
     },
     "execution_count": 6,
     "metadata": {},
     "output_type": "execute_result"
    }
   ],
   "source": [
    "data1=list(new_actor_file[\"actor_name\"])\n",
    "data2=list(new_director_file[\"directorname\"])\n",
    "data3=list(new_actor_file[\"actor_rating\"])\n",
    "data4=list(new_director_file[\"director_rating\"])\n",
    "def check(actors):\n",
    "        if isinstance(actors,float) and math.isnan(actors):\n",
    "            return str(0)\n",
    "        else:\n",
    "            return str(actors) \n",
    "    \n",
    "new_movie_file['actors']=new_movie_file['actors'].apply(check)\n",
    "new_movie_file['directors']=new_movie_file['directors'].apply(check)\n",
    "\n",
    "#print(new_movie_file['actors'].value_counts(dropna=False))\n",
    "def replacecomma(actor):\n",
    "    lst=[]\n",
    "    if isinstance(actor,float) and math.isnan(actor):\n",
    "            return 0\n",
    "    else:\n",
    "        lst=actor.split(\" | \")\n",
    "        return(lst) \n",
    "new_movie_file['new actors']=new_movie_file['actors'].apply(replacecomma)\n",
    "\n",
    "def replacecomma2(director):\n",
    "    lst=[]\n",
    "    if isinstance(director,float) and math.isnan(director):\n",
    "        return 0\n",
    "    elif \" | \" not in director:\n",
    "        lst.append(director)\n",
    "        return(lst)\n",
    "    else:\n",
    "        lst=director.split(\" | \")\n",
    "        return(lst)\n",
    "new_movie_file[\"directors\"]=new_movie_file[\"directors\"].apply(replacecomma2)\n",
    "\n",
    "def calculate_average(actor_lst):\n",
    "    s=0\n",
    "    for j in actor_lst:\n",
    "        if j in data1:\n",
    "            index_no=data1.index(j)\n",
    "            s=s+data3[index_no]\n",
    "    return (s/len(actor_lst))\n",
    "\n",
    "def calculate_average2(director_lst):\n",
    "    s1=0\n",
    "    for j in director_lst:\n",
    "        if j in data2:\n",
    "            index_no=data2.index(j)\n",
    "            s1=s1+data4[index_no]\n",
    "    return (s1/len(director_lst))\n",
    "new_movie_file['latest_actor_rating']=new_movie_file['new actors'].apply(calculate_average)\n",
    "new_movie_file[\"latest_director_rating\"]=new_movie_file[\"directors\"].apply(calculate_average2)\n",
    "new_movie_file.head()\n",
    " \n"
   ]
  },
  {
   "cell_type": "markdown",
   "metadata": {},
   "source": [
    "# FINAL FILE"
   ]
  },
  {
   "cell_type": "code",
   "execution_count": 7,
   "metadata": {},
   "outputs": [
    {
     "data": {
      "text/html": [
       "<div>\n",
       "<style scoped>\n",
       "    .dataframe tbody tr th:only-of-type {\n",
       "        vertical-align: middle;\n",
       "    }\n",
       "\n",
       "    .dataframe tbody tr th {\n",
       "        vertical-align: top;\n",
       "    }\n",
       "\n",
       "    .dataframe thead th {\n",
       "        text-align: right;\n",
       "    }\n",
       "</style>\n",
       "<table border=\"1\" class=\"dataframe\">\n",
       "  <thead>\n",
       "    <tr style=\"text-align: right;\">\n",
       "      <th></th>\n",
       "      <th>movie_name</th>\n",
       "      <th>actors</th>\n",
       "      <th>directors</th>\n",
       "      <th>new actors</th>\n",
       "      <th>latest_actor_rating</th>\n",
       "      <th>latest_director_rating</th>\n",
       "      <th>hitFlopRating</th>\n",
       "      <th>hitFlop</th>\n",
       "    </tr>\n",
       "  </thead>\n",
       "  <tbody>\n",
       "    <tr>\n",
       "      <th>0</th>\n",
       "      <td>Albela</td>\n",
       "      <td>Govinda | Aishwarya Rai Bachchan | Jackie Shro...</td>\n",
       "      <td>[Deepak Sareen]</td>\n",
       "      <td>[Govinda, Aishwarya Rai Bachchan, Jackie Shrof...</td>\n",
       "      <td>3.826140</td>\n",
       "      <td>0.000000</td>\n",
       "      <td>1</td>\n",
       "      <td>Flop</td>\n",
       "    </tr>\n",
       "    <tr>\n",
       "      <th>1</th>\n",
       "      <td>Lagaan: Once Upon a Time in India</td>\n",
       "      <td>Aamir Khan | Gracy Singh | Rachel Shelley | Pa...</td>\n",
       "      <td>[Ashutosh Gowariker]</td>\n",
       "      <td>[Aamir Khan, Gracy Singh, Rachel Shelley, Paul...</td>\n",
       "      <td>3.292210</td>\n",
       "      <td>3.748080</td>\n",
       "      <td>3</td>\n",
       "      <td>Hit</td>\n",
       "    </tr>\n",
       "    <tr>\n",
       "      <th>2</th>\n",
       "      <td>Meri Biwi Ka Jawab Nahin</td>\n",
       "      <td>Akshay Kumar | Sridevi | Gulshan Grover | Laxm...</td>\n",
       "      <td>[Pankaj Parashar, S.M. Iqbal]</td>\n",
       "      <td>[Akshay Kumar, Sridevi, Gulshan Grover, Laxmik...</td>\n",
       "      <td>2.716680</td>\n",
       "      <td>0.606655</td>\n",
       "      <td>1</td>\n",
       "      <td>Flop</td>\n",
       "    </tr>\n",
       "    <tr>\n",
       "      <th>3</th>\n",
       "      <td>Hum Tumhare Hain Sanam</td>\n",
       "      <td>Shah Rukh Khan | Madhuri Dixit | Salman Khan |...</td>\n",
       "      <td>[K.S. Adiyaman]</td>\n",
       "      <td>[Shah Rukh Khan, Madhuri Dixit, Salman Khan, A...</td>\n",
       "      <td>5.817083</td>\n",
       "      <td>0.000000</td>\n",
       "      <td>2</td>\n",
       "      <td>Average</td>\n",
       "    </tr>\n",
       "    <tr>\n",
       "      <th>4</th>\n",
       "      <td>One 2 Ka 4</td>\n",
       "      <td>Shah Rukh Khan | Juhi Chawla | Jackie Shroff |...</td>\n",
       "      <td>[Shashilal K. Nair]</td>\n",
       "      <td>[Shah Rukh Khan, Juhi Chawla, Jackie Shroff, N...</td>\n",
       "      <td>3.745475</td>\n",
       "      <td>2.849850</td>\n",
       "      <td>1</td>\n",
       "      <td>Flop</td>\n",
       "    </tr>\n",
       "  </tbody>\n",
       "</table>\n",
       "</div>"
      ],
      "text/plain": [
       "                          movie_name  \\\n",
       "0                             Albela   \n",
       "1  Lagaan: Once Upon a Time in India   \n",
       "2           Meri Biwi Ka Jawab Nahin   \n",
       "3             Hum Tumhare Hain Sanam   \n",
       "4                         One 2 Ka 4   \n",
       "\n",
       "                                              actors  \\\n",
       "0  Govinda | Aishwarya Rai Bachchan | Jackie Shro...   \n",
       "1  Aamir Khan | Gracy Singh | Rachel Shelley | Pa...   \n",
       "2  Akshay Kumar | Sridevi | Gulshan Grover | Laxm...   \n",
       "3  Shah Rukh Khan | Madhuri Dixit | Salman Khan |...   \n",
       "4  Shah Rukh Khan | Juhi Chawla | Jackie Shroff |...   \n",
       "\n",
       "                       directors  \\\n",
       "0                [Deepak Sareen]   \n",
       "1           [Ashutosh Gowariker]   \n",
       "2  [Pankaj Parashar, S.M. Iqbal]   \n",
       "3                [K.S. Adiyaman]   \n",
       "4            [Shashilal K. Nair]   \n",
       "\n",
       "                                          new actors  latest_actor_rating  \\\n",
       "0  [Govinda, Aishwarya Rai Bachchan, Jackie Shrof...             3.826140   \n",
       "1  [Aamir Khan, Gracy Singh, Rachel Shelley, Paul...             3.292210   \n",
       "2  [Akshay Kumar, Sridevi, Gulshan Grover, Laxmik...             2.716680   \n",
       "3  [Shah Rukh Khan, Madhuri Dixit, Salman Khan, A...             5.817083   \n",
       "4  [Shah Rukh Khan, Juhi Chawla, Jackie Shroff, N...             3.745475   \n",
       "\n",
       "   latest_director_rating  hitFlopRating  hitFlop  \n",
       "0                0.000000              1     Flop  \n",
       "1                3.748080              3      Hit  \n",
       "2                0.606655              1     Flop  \n",
       "3                0.000000              2  Average  \n",
       "4                2.849850              1     Flop  "
      ]
     },
     "execution_count": 7,
     "metadata": {},
     "output_type": "execute_result"
    }
   ],
   "source": [
    "#clean data agains\n",
    "def set_rating_name(rating):\n",
    "    if rating==1:\n",
    "        return(\"Flop\")\n",
    "    if rating==2:\n",
    "        return(\"Average\")\n",
    "    if rating==3:\n",
    "        return(\"Hit\")\n",
    "    if rating==4:\n",
    "        return(\"Super Hit\")\n",
    "    if rating==5:\n",
    "        return(\"BlockBuster\")\n",
    "     \n",
    "def set_rating(rating):\n",
    "    if rating==1 or rating==2:\n",
    "        return(1)\n",
    "    elif rating==3 or rating==4:\n",
    "        return(2)\n",
    "    elif rating==5 or rating==6:\n",
    "        return(3)\n",
    "    elif rating==7:  \n",
    "        return(4)\n",
    "    elif rating==8 or rating==9:\n",
    "        return(5)\n",
    "\n",
    "new_movie_file[\"hitFlopRating\"]=new_movie_file[\"movie_rating\"].apply(set_rating)   \n",
    "new_movie_file[\"hitFlop\"]=new_movie_file[\"hitFlopRating\"].apply(set_rating_name)\n",
    "del new_movie_file['movie_rating']\n",
    "new_movie_file.head()"
   ]
  },
  {
   "cell_type": "code",
   "execution_count": 8,
   "metadata": {},
   "outputs": [
    {
     "data": {
      "text/plain": [
       "1    3256\n",
       "2     246\n",
       "3     244\n",
       "4      58\n",
       "5      48\n",
       "Name: hitFlopRating, dtype: int64"
      ]
     },
     "execution_count": 8,
     "metadata": {},
     "output_type": "execute_result"
    }
   ],
   "source": [
    "new_movie_file[\"hitFlopRating\"].value_counts(dropna=False)"
   ]
  },
  {
   "cell_type": "code",
   "execution_count": 9,
   "metadata": {
    "scrolled": true
   },
   "outputs": [
    {
     "name": "stdout",
     "output_type": "stream",
     "text": [
      "0.8961578400830738\n"
     ]
    }
   ],
   "source": [
    "from sklearn.neighbors import KNeighborsClassifier\n",
    "from sklearn import metrics\n",
    "X=new_movie_file[[\"latest_actor_rating\",\"latest_director_rating\"]]\n",
    "y=new_movie_file[\"hitFlopRating\"]\n",
    "knn=KNeighborsClassifier(n_neighbors=5)\n",
    "knn.fit(X,y)\n",
    "y_pred=knn.predict(X)\n",
    "print((metrics.accuracy_score(y,y_pred)))"
   ]
  },
  {
   "cell_type": "code",
   "execution_count": 10,
   "metadata": {},
   "outputs": [
    {
     "name": "stdout",
     "output_type": "stream",
     "text": [
      "0.8504672897196262\n"
     ]
    }
   ],
   "source": [
    "from sklearn import metrics\n",
    "from sklearn.linear_model import LogisticRegression\n",
    "logreg=LogisticRegression(solver='liblinear',multi_class='auto')\n",
    "logreg.fit(X,y)\n",
    "y_pred=logreg.predict(X)\n",
    "print(metrics.accuracy_score(y,y_pred))"
   ]
  },
  {
   "cell_type": "code",
   "execution_count": 11,
   "metadata": {},
   "outputs": [
    {
     "name": "stdout",
     "output_type": "stream",
     "text": [
      "0.8961578400830738\n"
     ]
    }
   ],
   "source": [
    "from sklearn import metrics\n",
    "X=new_movie_file[[\"latest_actor_rating\",\"latest_director_rating\"]]\n",
    "y=new_movie_file[\"hitFlopRating\"]\n",
    "knn=KNeighborsClassifier(n_neighbors=5)\n",
    "knn.fit(X,y)\n",
    "y_pred=knn.predict(X)\n",
    "print(metrics.accuracy_score(y,y_pred))"
   ]
  },
  {
   "cell_type": "markdown",
   "metadata": {},
   "source": [
    "# train test split"
   ]
  },
  {
   "cell_type": "code",
   "execution_count": 12,
   "metadata": {},
   "outputs": [
    {
     "name": "stdout",
     "output_type": "stream",
     "text": [
      "0.9110966904607398\n",
      "[5]\n"
     ]
    }
   ],
   "source": [
    "from sklearn.model_selection import train_test_split\n",
    "X_train,X_test,y_train,y_test=train_test_split(X,y,test_size=0.4,random_state=4)\n",
    "knn=KNeighborsClassifier(n_neighbors=1)\n",
    "knn.fit(X_train,y_train)\n",
    "y_pred=knn.predict(X_test)\n",
    "print(metrics.accuracy_score(y_test,y_pred))\n",
    "knn.predict([[8.338,10]])\n",
    "knn.predict([[3.7,3.04]])\n",
    "knn.predict([[6.80,7.14]])\n",
    "knn.predict([[6.80,7.14]])\n",
    "print(knn.predict([[8.07,7.94]]))"
   ]
  },
  {
   "cell_type": "code",
   "execution_count": 13,
   "metadata": {},
   "outputs": [
    {
     "name": "stdout",
     "output_type": "stream",
     "text": [
      "0.8475016223231667\n"
     ]
    },
    {
     "data": {
      "text/plain": [
       "array([3], dtype=int64)"
      ]
     },
     "execution_count": 13,
     "metadata": {},
     "output_type": "execute_result"
    }
   ],
   "source": [
    "X_train,X_test,y_train,y_test=train_test_split(X,y,test_size=0.4,random_state=4)\n",
    "logreg=LogisticRegression(solver=\"liblinear\",multi_class=\"auto\")\n",
    "logreg.fit(X_train,y_train)\n",
    "y_pred=logreg.predict(X_test)\n",
    "print(metrics.accuracy_score(y_test,y_pred))\n",
    "logreg.predict([[8.338,10]])"
   ]
  },
  {
   "cell_type": "code",
   "execution_count": 14,
   "metadata": {},
   "outputs": [
    {
     "name": "stdout",
     "output_type": "stream",
     "text": [
      "[0.9110966904607398, 0.8617780661907852, 0.8208955223880597, 0.8384166125892277, 0.8416612589227774, 0.8429591174561972, 0.8403634003893575, 0.8436080467229072, 0.8403634003893575, 0.8481505515898767, 0.8487994808565866, 0.8462037637897469, 0.8487994808565866, 0.8520441271901362, 0.8533419857235561, 0.853990914990266, 0.8520441271901362, 0.8507462686567164, 0.8520441271901362, 0.8520441271901362, 0.8526930564568462, 0.853990914990266, 0.8507462686567164, 0.8487994808565866, 0.8494484101232965, 0.8475016223231667, 0.8468526930564568, 0.8481505515898767, 0.8494484101232965, 0.8494484101232965]\n",
      "0.9110966904607398\n",
      "0\n"
     ]
    }
   ],
   "source": [
    "#for better value of k\n",
    "k_range=range(1,31)\n",
    "scores=[]\n",
    "for k in k_range:\n",
    "    knn=KNeighborsClassifier(n_neighbors=k)\n",
    "    knn.fit(X_train,y_train)\n",
    "    y_pred=knn.predict(X_test)\n",
    "    scores.append(metrics.accuracy_score(y_test,y_pred))\n",
    "print(scores)\n",
    "print(max(scores))\n",
    "print(scores.index(max(scores)))"
   ]
  },
  {
   "cell_type": "markdown",
   "metadata": {},
   "source": [
    "\n",
    "\n",
    "# by cross validation"
   ]
  },
  {
   "cell_type": "code",
   "execution_count": 15,
   "metadata": {},
   "outputs": [
    {
     "name": "stdout",
     "output_type": "stream",
     "text": [
      "0.8487481924978043\n"
     ]
    }
   ],
   "source": [
    "from sklearn.model_selection import cross_val_score\n",
    "score=cross_val_score(knn,X,y,cv=24,scoring=\"accuracy\")\n",
    "print(score.mean())"
   ]
  },
  {
   "cell_type": "code",
   "execution_count": 16,
   "metadata": {},
   "outputs": [
    {
     "name": "stdout",
     "output_type": "stream",
     "text": [
      "0.8499689500608977\n"
     ]
    }
   ],
   "source": [
    "score=cross_val_score(logreg,X,y,cv=12,scoring=\"accuracy\")\n",
    "print(score.mean())"
   ]
  },
  {
   "cell_type": "code",
   "execution_count": 17,
   "metadata": {},
   "outputs": [
    {
     "name": "stdout",
     "output_type": "stream",
     "text": [
      "0.8411214953271028\n",
      "[3]\n"
     ]
    }
   ],
   "source": [
    "from sklearn.naive_bayes import GaussianNB\n",
    "gnb=GaussianNB()\n",
    "gnb.fit(X,y)\n",
    "y_pred=gnb.predict(X)\n",
    "print(metrics.accuracy_score(y,y_pred))\n",
    "gnb.predict([[8.338,10.00]])\n",
    "print(gnb.predict([[5.015,7.016]]))"
   ]
  },
  {
   "cell_type": "code",
   "execution_count": 18,
   "metadata": {},
   "outputs": [
    {
     "name": "stdout",
     "output_type": "stream",
     "text": [
      "0.8535825545171339\n"
     ]
    }
   ],
   "source": [
    "from sklearn.svm import SVC\n",
    "f=SVC(gamma=\"scale\")\n",
    "f.fit(X,y)\n",
    "y_pred=f.predict(X)\n",
    "print(metrics.accuracy_score(y,y_pred))"
   ]
  },
  {
   "cell_type": "code",
   "execution_count": 19,
   "metadata": {},
   "outputs": [
    {
     "name": "stdout",
     "output_type": "stream",
     "text": [
      "0.8452751817237798\n"
     ]
    }
   ],
   "source": [
    "from sklearn.linear_model import SGDClassifier\n",
    "l=SGDClassifier(loss=\"hinge\",max_iter=1000,tol=0.001)\n",
    "l.fit(X,y)\n",
    "y_pred=l.predict(X)\n",
    "print(metrics.accuracy_score(y,y_pred))"
   ]
  },
  {
   "cell_type": "code",
   "execution_count": 20,
   "metadata": {},
   "outputs": [
    {
     "name": "stdout",
     "output_type": "stream",
     "text": [
      "0.9937694704049844\n"
     ]
    }
   ],
   "source": [
    "from sklearn import tree\n",
    "g=tree.DecisionTreeClassifier()\n",
    "g.fit(X,y)\n",
    "y_pred=g.predict(X)\n",
    "print(metrics.accuracy_score(y,y_pred))"
   ]
  },
  {
   "cell_type": "code",
   "execution_count": 21,
   "metadata": {},
   "outputs": [
    {
     "name": "stdout",
     "output_type": "stream",
     "text": [
      "0.9937694704049844\n"
     ]
    }
   ],
   "source": [
    "from sklearn.ensemble import RandomForestClassifier\n",
    "d=RandomForestClassifier(n_estimators=12)\n",
    "d.fit(X,y)\n",
    "y_pred=d.predict(X)\n",
    "print(metrics.accuracy_score(y,y_pred))"
   ]
  },
  {
   "cell_type": "code",
   "execution_count": 22,
   "metadata": {},
   "outputs": [],
   "source": [
    "def finalset1():\n",
    "    lst1=[]\n",
    "    p=entry2.get()\n",
    "    p=p.split(',')\n",
    "    for i in p:\n",
    "        i=i.title()\n",
    "        lst1.append(i)\n",
    "    m=calculate_average(lst1)\n",
    "    lst2=[]\n",
    "    r=entry3.get()\n",
    "    r=r.split(',')\n",
    "    for j in r:\n",
    "        j=j.title()\n",
    "        lst2.append(j)\n",
    "    n=calculate_average2(lst2)\n",
    "    return (m,n)\n",
    "def finalset2():\n",
    "        m,n=finalset1()\n",
    "        knn.fit(X,y)\n",
    "        b=knn.predict([[m,n]])\n",
    "        a=set_rating_name(b)\n",
    "        c=(b[0],':',a)\n",
    "        g.set(c)"
   ]
  },
  {
   "cell_type": "markdown",
   "metadata": {},
   "source": [
    "# make layout by tkinter"
   ]
  },
  {
   "cell_type": "code",
   "execution_count": 23,
   "metadata": {},
   "outputs": [],
   "source": [
    "root=Tk()\n",
    "root.title(\"Movie Project\")\n",
    "canvas=Canvas(width=2000,height=2000)\n",
    "my_image=PhotoImage(file=\"C:\\\\Users\\\\Pallavi Bhatia\\\\Desktop\\\\movie_image.png\")\n",
    "canvas.create_image(0,0,anchor=NW,image=my_image)\n",
    "canvas.pack()\n",
    "topframe=Frame(root,bg=\"#f7911b\")\n",
    "topframe.place(relx=0.57,rely=0.001,relwidth=0.4,relheight=0.3)\n",
    "\n",
    "\n",
    "label1=Label(topframe,text=\"Movie Name\",bg=\"#f7911b\",fg='#492604',font=('times new roman',15,'bold'))\n",
    "label1.grid(row=0,column=0)\n",
    "\n",
    "label2=Label(topframe,text=\"Actors Name\",bg=\"#f7911b\",fg='#492604',font=('times new roman',15,'bold'))\n",
    "label2.grid(row=1,column=0)\n",
    "\n",
    "label3=Label(topframe,text=\"Directors Name\",bg=\"#f7911b\",fg='#492604',font=('times new roman',15,'bold'))\n",
    "label3.grid(row=2,column=0)\n",
    "label1.place(relx=.09,rely=.06)\n",
    "label2.place(relx=.09,rely=.23)\n",
    "label3.place(relx=.09,rely=.40)\n",
    "entry1=Entry(topframe,font=5,bg='#fad9aa')\n",
    "entry1.grid(row=0,column=1)\n",
    "entry1.place(relx=.35,rely=.06,relwidth=.45,relheight=.12)\n",
    "entry2=Entry(topframe,font=5,bg='#fad9aa')\n",
    "entry2.grid(row=1,column=1)\n",
    "entry2.place(relx=.35,rely=.23,relwidth=.45,relheight=.12)\n",
    "g=StringVar()\n",
    "entry3=Entry(topframe,font=5,bg='#fad9aa')\n",
    "entry3.grid(row=2,column=1)\n",
    "entry3.place(relx=.35,rely=.40,relwidth=.45,relheight=.12)\n",
    "button=Button(topframe,text=\"Check the Rating\",font=('times new roman',13,'bold'),bg=\"#492604\",fg=\"#f2800d\",command=finalset2)\n",
    "button.place(relx=.35,rely=.60,relwidth=.27)\n",
    "entry4=Entry(topframe,textvariable=g,font=('times new roman',20,'bold'),fg=\"#492604\",bg='#fad9aa')\n",
    "entry4.grid(row=5,column=1)\n",
    "entry4.place(relx=.28,rely=.82,relwidth=.45,relheight=.12)\n",
    "root.mainloop()"
   ]
  },
  {
   "cell_type": "code",
   "execution_count": null,
   "metadata": {},
   "outputs": [],
   "source": []
  },
  {
   "cell_type": "raw",
   "metadata": {},
   "source": []
  }
 ],
 "metadata": {
  "kernelspec": {
   "display_name": "Python 3",
   "language": "python",
   "name": "python3"
  },
  "language_info": {
   "codemirror_mode": {
    "name": "ipython",
    "version": 3
   },
   "file_extension": ".py",
   "mimetype": "text/x-python",
   "name": "python",
   "nbconvert_exporter": "python",
   "pygments_lexer": "ipython3",
   "version": "3.7.3"
  }
 },
 "nbformat": 4,
 "nbformat_minor": 2
}
