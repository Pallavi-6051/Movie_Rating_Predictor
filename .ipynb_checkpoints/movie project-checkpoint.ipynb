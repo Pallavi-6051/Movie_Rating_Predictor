{
 "cells": [
  {
   "cell_type": "code",
   "execution_count": 1,
   "metadata": {},
   "outputs": [],
   "source": [
    "from numpy import*\n",
    "from pandas import*\n",
    "from tkinter import*\n"
   ]
  },
  {
   "cell_type": "code",
   "execution_count": 2,
   "metadata": {},
   "outputs": [],
   "source": [
    "director_file=read_csv(\"BollywoodDirectorRanking.csv\")\n",
    "actor_file=read_csv(\"BollywoodActorRanking.csv\")\n",
    "movie_file=read_csv(\"BollywoodMovieDetail2.csv\")"
   ]
  },
  {
   "cell_type": "code",
   "execution_count": 4,
   "metadata": {
    "scrolled": false
   },
   "outputs": [
    {
     "data": {
      "text/html": [
       "<div>\n",
       "<style scoped>\n",
       "    .dataframe tbody tr th:only-of-type {\n",
       "        vertical-align: middle;\n",
       "    }\n",
       "\n",
       "    .dataframe tbody tr th {\n",
       "        vertical-align: top;\n",
       "    }\n",
       "\n",
       "    .dataframe thead th {\n",
       "        text-align: right;\n",
       "    }\n",
       "</style>\n",
       "<table border=\"1\" class=\"dataframe\">\n",
       "  <thead>\n",
       "    <tr style=\"text-align: right;\">\n",
       "      <th></th>\n",
       "      <th>directorname</th>\n",
       "      <th>director_rating</th>\n",
       "    </tr>\n",
       "  </thead>\n",
       "  <tbody>\n",
       "    <tr>\n",
       "      <th>0</th>\n",
       "      <td>Rajkumar Hirani</td>\n",
       "      <td>10.00000</td>\n",
       "    </tr>\n",
       "    <tr>\n",
       "      <th>1</th>\n",
       "      <td>Farah Khan</td>\n",
       "      <td>8.78473</td>\n",
       "    </tr>\n",
       "    <tr>\n",
       "      <th>2</th>\n",
       "      <td>Karan Johar</td>\n",
       "      <td>7.10460</td>\n",
       "    </tr>\n",
       "    <tr>\n",
       "      <th>3</th>\n",
       "      <td>Sajid Khan</td>\n",
       "      <td>6.99780</td>\n",
       "    </tr>\n",
       "    <tr>\n",
       "      <th>4</th>\n",
       "      <td>Rohit Shetty</td>\n",
       "      <td>6.83761</td>\n",
       "    </tr>\n",
       "  </tbody>\n",
       "</table>\n",
       "</div>"
      ],
      "text/plain": [
       "      directorname  director_rating\n",
       "0  Rajkumar Hirani         10.00000\n",
       "1       Farah Khan          8.78473\n",
       "2      Karan Johar          7.10460\n",
       "3       Sajid Khan          6.99780\n",
       "4     Rohit Shetty          6.83761"
      ]
     },
     "execution_count": 4,
     "metadata": {},
     "output_type": "execute_result"
    }
   ],
   "source": [
    "new_director_file=DataFrame({\"directorname\":director_file[\"directorName\"],\"director_rating\":director_file[\"normalizedRating\"]})\n",
    "new_director_file.head()"
   ]
  },
  {
   "cell_type": "code",
   "execution_count": null,
   "metadata": {},
   "outputs": [],
   "source": [
    "\n",
    "new_actor_file=DataFrame({\"actor_name\":actor_file[\"actorName\"],\"actor_rating\":actor_file[\"normalizedRating\"]})\n",
    "new_actor_file.head()"
   ]
  },
  {
   "cell_type": "code",
   "execution_count": null,
   "metadata": {
    "scrolled": true
   },
   "outputs": [],
   "source": [
    "new_movie_file=DataFrame({\"movie_name\":movie_file[\"title\"],\"actors\":movie_file[\"actors\"],\"directors\":movie_file[\"directors\"],\"movie_rating\":movie_file[\"hitFlop\"]})\n",
    "new_movie_file.head()\n"
   ]
  },
  {
   "cell_type": "code",
   "execution_count": null,
   "metadata": {
    "scrolled": false
   },
   "outputs": [],
   "source": [
    "data1=list(new_actor_file[\"actor_name\"])\n",
    "data2=list(new_director_file[\"directorname\"])\n",
    "data3=list(new_actor_file[\"actor_rating\"])\n",
    "data4=list(new_director_file[\"director_rating\"])\n",
    "def check(actors):\n",
    "        if isinstance(actors,float) and math.isnan(actors):\n",
    "            return str(0)\n",
    "        else:\n",
    "            return str(actors) \n",
    "    \n",
    "new_movie_file['actors']=new_movie_file['actors'].apply(check)\n",
    "new_movie_file['directors']=new_movie_file['directors'].apply(check)\n",
    "\n",
    "#print(new_movie_file['actors'].value_counts(dropna=False))\n",
    "def replacecomma(actor):\n",
    "    lst=[]\n",
    "    if isinstance(actor,float) and math.isnan(actor):\n",
    "            return 0\n",
    "    else:\n",
    "        lst=actor.split(\" | \")\n",
    "        return(lst) \n",
    "new_movie_file['new actors']=new_movie_file['actors'].apply(replacecomma)\n",
    "\n",
    "def replacecomma2(director):\n",
    "    lst=[]\n",
    "    if isinstance(director,float) and math.isnan(director):\n",
    "        return 0\n",
    "    elif \" | \" not in director:\n",
    "        lst.append(director)\n",
    "        return(lst)\n",
    "    else:\n",
    "        lst=director.split(\" | \")\n",
    "        return(lst)\n",
    "new_movie_file[\"directors\"]=new_movie_file[\"directors\"].apply(replacecomma2)\n",
    "\n",
    "def calculate_average(actor_lst):\n",
    "    s=0\n",
    "    for j in actor_lst:\n",
    "        if j in data1:\n",
    "            index_no=data1.index(j)\n",
    "            s=s+data3[index_no]\n",
    "    return (s/len(actor_lst))\n",
    "\n",
    "def calculate_average2(director_lst):\n",
    "    s1=0\n",
    "    for j in director_lst:\n",
    "        if j in data2:\n",
    "            index_no=data2.index(j)\n",
    "            s1=s1+data4[index_no]\n",
    "    return (s1/len(director_lst))\n",
    "new_movie_file['latest_actor_rating']=new_movie_file['new actors'].apply(calculate_average)\n",
    "new_movie_file[\"latest_director_rating\"]=new_movie_file[\"directors\"].apply(calculate_average2)\n",
    "new_movie_file.head()\n",
    " \n"
   ]
  },
  {
   "cell_type": "markdown",
   "metadata": {},
   "source": [
    "# FINAL FILE"
   ]
  },
  {
   "cell_type": "code",
   "execution_count": null,
   "metadata": {},
   "outputs": [],
   "source": [
    "#clean data agains\n",
    "def set_rating_name(rating):\n",
    "    if rating==1:\n",
    "        return(\"Flop\")\n",
    "    if rating==2:\n",
    "        return(\"Average\")\n",
    "    if rating==3:\n",
    "        return(\"Hit\")\n",
    "    if rating==4:\n",
    "        return(\"Super Hit\")\n",
    "    if rating==5:\n",
    "        return(\"BlockBuster\")\n",
    "     \n",
    "def set_rating(rating):\n",
    "    if rating==1 or rating==2:\n",
    "        return(1)\n",
    "    elif rating==3 or rating==4:\n",
    "        return(2)\n",
    "    elif rating==5 or rating==6:\n",
    "        return(3)\n",
    "    elif rating==7:  \n",
    "        return(4)\n",
    "    elif rating==8 or rating==9:\n",
    "        return(5)\n",
    "\n",
    "new_movie_file[\"hitFlopRating\"]=new_movie_file[\"movie_rating\"].apply(set_rating)   \n",
    "new_movie_file[\"hitFlop\"]=new_movie_file[\"hitFlopRating\"].apply(set_rating_name)\n",
    "del new_movie_file['movie_rating']\n",
    "new_movie_file"
   ]
  },
  {
   "cell_type": "code",
   "execution_count": null,
   "metadata": {},
   "outputs": [],
   "source": [
    "new_movie_file[\"hitFlopRating\"].value_counts(dropna=False)"
   ]
  },
  {
   "cell_type": "code",
   "execution_count": null,
   "metadata": {
    "scrolled": true
   },
   "outputs": [],
   "source": [
    "from sklearn.neighbors import KNeighborsClassifier\n",
    "from sklearn import metrics\n",
    "X=new_movie_file[[\"latest_actor_rating\",\"latest_director_rating\"]]\n",
    "y=new_movie_file[\"hitFlopRating\"]\n",
    "knn=KNeighborsClassifier(n_neighbors=5)\n",
    "knn.fit(X,y)\n",
    "y_pred=knn.predict(X)\n",
    "print((metrics.accuracy_score(y,y_pred)))"
   ]
  },
  {
   "cell_type": "code",
   "execution_count": null,
   "metadata": {},
   "outputs": [],
   "source": [
    "from sklearn import metrics\n",
    "from sklearn.linear_model import LogisticRegression\n",
    "logreg=LogisticRegression(solver='liblinear',multi_class='auto')\n",
    "logreg.fit(X,y)\n",
    "y_pred=logreg.predict(X)\n",
    "print(metrics.accuracy_score(y,y_pred))"
   ]
  },
  {
   "cell_type": "code",
   "execution_count": null,
   "metadata": {},
   "outputs": [],
   "source": [
    "from sklearn import metrics\n",
    "X=new_movie_file[[\"latest_actor_rating\",\"latest_director_rating\"]]\n",
    "y=new_movie_file[\"hitFlopRating\"]\n",
    "knn=KNeighborsClassifier(n_neighbors=5)\n",
    "knn.fit(X,y)\n",
    "y_pred=knn.predict(X)\n",
    "print(metrics.accuracy_score(y,y_pred))"
   ]
  },
  {
   "cell_type": "markdown",
   "metadata": {},
   "source": [
    "# train test split"
   ]
  },
  {
   "cell_type": "code",
   "execution_count": null,
   "metadata": {},
   "outputs": [],
   "source": [
    "from sklearn.model_selection import train_test_split\n",
    "X_train,X_test,y_train,y_test=train_test_split(X,y,test_size=0.4,random_state=4)\n",
    "knn=KNeighborsClassifier(n_neighbors=1)\n",
    "knn.fit(X_train,y_train)\n",
    "y_pred=knn.predict(X_test)\n",
    "print(metrics.accuracy_score(y_test,y_pred))\n",
    "knn.predict([[8.338,10]])\n",
    "knn.predict([[3.7,3.04]])\n",
    "knn.predict([[6.80,7.14]])\n",
    "knn.predict([[6.80,7.14]])\n",
    "print(knn.predict([[8.07,7.94]]))"
   ]
  },
  {
   "cell_type": "code",
   "execution_count": null,
   "metadata": {},
   "outputs": [],
   "source": [
    "X_train,X_test,y_train,y_test=train_test_split(X,y,test_size=0.4,random_state=4)\n",
    "logreg=LogisticRegression(solver=\"liblinear\",multi_class=\"auto\")\n",
    "logreg.fit(X_train,y_train)\n",
    "y_pred=logreg.predict(X_test)\n",
    "print(metrics.accuracy_score(y_test,y_pred))\n",
    "logreg.predict([[8.338,10]])"
   ]
  },
  {
   "cell_type": "code",
   "execution_count": null,
   "metadata": {},
   "outputs": [],
   "source": [
    "#for better value of k\n",
    "k_range=range(1,31)\n",
    "scores=[]\n",
    "for k in k_range:\n",
    "    knn=KNeighborsClassifier(n_neighbors=k)\n",
    "    knn.fit(X_train,y_train)\n",
    "    y_pred=knn.predict(X_test)\n",
    "    scores.append(metrics.accuracy_score(y_test,y_pred))\n",
    "print(scores)\n",
    "print(max(scores))\n",
    "print(scores.index(max(scores)))"
   ]
  },
  {
   "cell_type": "markdown",
   "metadata": {},
   "source": [
    "\n",
    "\n",
    "# by cross validation"
   ]
  },
  {
   "cell_type": "code",
   "execution_count": null,
   "metadata": {},
   "outputs": [],
   "source": [
    "from sklearn.model_selection import cross_val_score\n",
    "score=cross_val_score(knn,X,y,cv=24,scoring=\"accuracy\")\n",
    "print(score.mean())"
   ]
  },
  {
   "cell_type": "code",
   "execution_count": null,
   "metadata": {},
   "outputs": [],
   "source": [
    "score=cross_val_score(logreg,X,y,cv=12,scoring=\"accuracy\")\n",
    "print(score.mean())"
   ]
  },
  {
   "cell_type": "code",
   "execution_count": null,
   "metadata": {},
   "outputs": [],
   "source": [
    "from sklearn.naive_bayes import GaussianNB\n",
    "gnb=GaussianNB()\n",
    "gnb.fit(X,y)\n",
    "y_pred=gnb.predict(X)\n",
    "print(metrics.accuracy_score(y,y_pred))\n",
    "gnb.predict([[8.338,10.00]])\n",
    "print(gnb.predict([[5.015,7.016]]))"
   ]
  },
  {
   "cell_type": "code",
   "execution_count": null,
   "metadata": {},
   "outputs": [],
   "source": [
    "from sklearn.svm import SVC\n",
    "f=SVC(gamma=\"scale\")\n",
    "f.fit(X,y)\n",
    "y_pred=f.predict(X)\n",
    "print(metrics.accuracy_score(y,y_pred))"
   ]
  },
  {
   "cell_type": "code",
   "execution_count": null,
   "metadata": {},
   "outputs": [],
   "source": [
    "from sklearn.linear_model import SGDClassifier\n",
    "l=SGDClassifier(loss=\"hinge\",max_iter=1000,tol=0.001)\n",
    "l.fit(X,y)\n",
    "y_pred=l.predict(X)\n",
    "print(metrics.accuracy_score(y,y_pred))"
   ]
  },
  {
   "cell_type": "code",
   "execution_count": null,
   "metadata": {},
   "outputs": [],
   "source": [
    "from sklearn import tree\n",
    "g=tree.DecisionTreeClassifier()\n",
    "g.fit(X,y)\n",
    "y_pred=g.predict(X)\n",
    "print(metrics.accuracy_score(y,y_pred))"
   ]
  },
  {
   "cell_type": "code",
   "execution_count": null,
   "metadata": {},
   "outputs": [],
   "source": [
    "from sklearn.ensemble import RandomForestClassifier\n",
    "d=RandomForestClassifier(n_estimators=12)\n",
    "d.fit(X,y)\n",
    "y_pred=d.predict(X)\n",
    "print(metrics.accuracy_score(y,y_pred))"
   ]
  },
  {
   "cell_type": "code",
   "execution_count": null,
   "metadata": {},
   "outputs": [],
   "source": [
    "def finalset1():\n",
    "    lst1=[]\n",
    "    p=entry2.get()\n",
    "    p=p.split(',')\n",
    "    for i in p:\n",
    "        i=i.title()\n",
    "        lst1.append(i)\n",
    "    m=calculate_average(lst1)\n",
    "    lst2=[]\n",
    "    r=entry3.get()\n",
    "    r=r.split(',')\n",
    "    for j in r:\n",
    "        j=j.title()\n",
    "        lst2.append(j)\n",
    "    n=calculate_average2(lst2)\n",
    "    return (m,n)\n",
    "def finalset2():\n",
    "        m,n=finalset1()\n",
    "        knn.fit(X,y)\n",
    "        b=knn.predict([[m,n]])\n",
    "        a=set_rating_name(b)\n",
    "        c=(b[0],':',a)\n",
    "        g.set(c)"
   ]
  },
  {
   "cell_type": "markdown",
   "metadata": {},
   "source": [
    "# make layout by tkinter"
   ]
  },
  {
   "cell_type": "code",
   "execution_count": null,
   "metadata": {},
   "outputs": [],
   "source": [
    "root=Tk()\n",
    "root.title(\"Movie Project\")\n",
    "canvas=Canvas(width=2000,height=2000)\n",
    "my_image=PhotoImage(file=\"C:\\\\Users\\\\Pallavi Bhatia\\\\Desktop\\\\movie_image.png\")\n",
    "canvas.create_image(0,0,anchor=NW,image=my_image)\n",
    "canvas.pack()\n",
    "topframe=Frame(root,bg=\"#f7911b\")\n",
    "topframe.place(relx=0.57,rely=0.001,relwidth=0.4,relheight=0.3)\n",
    "\n",
    "\n",
    "label1=Label(topframe,text=\"Movie Name\",bg=\"#f7911b\",fg='#492604',font=('times new roman',15,'bold'))\n",
    "label1.grid(row=0,column=0)\n",
    "\n",
    "label2=Label(topframe,text=\"Actors Name\",bg=\"#f7911b\",fg='#492604',font=('times new roman',15,'bold'))\n",
    "label2.grid(row=1,column=0)\n",
    "\n",
    "label3=Label(topframe,text=\"Directors Name\",bg=\"#f7911b\",fg='#492604',font=('times new roman',15,'bold'))\n",
    "label3.grid(row=2,column=0)\n",
    "label1.place(relx=.09,rely=.06)\n",
    "label2.place(relx=.09,rely=.23)\n",
    "label3.place(relx=.09,rely=.40)\n",
    "entry1=Entry(topframe,font=5,bg='#fad9aa')\n",
    "entry1.grid(row=0,column=1)\n",
    "entry1.place(relx=.35,rely=.06,relwidth=.45,relheight=.12)\n",
    "entry2=Entry(topframe,font=5,bg='#fad9aa')\n",
    "entry2.grid(row=1,column=1)\n",
    "entry2.place(relx=.35,rely=.23,relwidth=.45,relheight=.12)\n",
    "g=StringVar()\n",
    "entry3=Entry(topframe,font=5,bg='#fad9aa')\n",
    "entry3.grid(row=2,column=1)\n",
    "entry3.place(relx=.35,rely=.40,relwidth=.45,relheight=.12)\n",
    "button=Button(topframe,text=\"Check the Rating\",font=('times new roman',13,'bold'),bg=\"#492604\",fg=\"#f2800d\",command=finalset2)\n",
    "button.place(relx=.35,rely=.60,relwidth=.27)\n",
    "entry4=Entry(topframe,textvariable=g,font=('times new roman',20,'bold'),fg=\"#492604\",bg='#fad9aa')\n",
    "entry4.grid(row=5,column=1)\n",
    "entry4.place(relx=.28,rely=.82,relwidth=.45,relheight=.12)\n",
    "root.mainloop()"
   ]
  },
  {
   "cell_type": "code",
   "execution_count": null,
   "metadata": {},
   "outputs": [],
   "source": []
  },
  {
   "cell_type": "raw",
   "metadata": {},
   "source": []
  }
 ],
 "metadata": {
  "kernelspec": {
   "display_name": "Python 3",
   "language": "python",
   "name": "python3"
  },
  "language_info": {
   "codemirror_mode": {
    "name": "ipython",
    "version": 3
   },
   "file_extension": ".py",
   "mimetype": "text/x-python",
   "name": "python",
   "nbconvert_exporter": "python",
   "pygments_lexer": "ipython3",
   "version": "3.7.3"
  }
 },
 "nbformat": 4,
 "nbformat_minor": 2
}
